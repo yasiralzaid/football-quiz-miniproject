{
 "cells": [
  {
   "cell_type": "markdown",
   "metadata": {
    "tags": []
   },
   "source": [
    "# Miniproject\n",
    "# Level  7\n",
    "## Yasir Mohammed I Alzaid\n",
    "## 230968673\n",
    "## 21/11/2023\n",
    "## Version 2.0\n",
    "\n",
    "- Added loops for multiple users\n",
    "- Added arrays for increasing score increments\n",
    "- Added records for storing questions\n",
    "- Added file input/output"
   ]
  },
  {
   "cell_type": "markdown",
   "metadata": {},
   "source": [
    "## Summary of the Question \n",
    "Write a quiz programs where answers are typed in by the players, in which their total is increased with every correct question and their final score is then displayed at the end."
   ]
  },
  {
   "cell_type": "markdown",
   "metadata": {},
   "source": [
    "## Justification that the program passes this level\n",
    "This is based on tick boxes at start of the question description for this exercise.\n",
    "- I can EXPLAIN HOW MY PROGRAM WORKS\n",
    "- I wrote this program myself\n",
    "- The program fulfills the task\n",
    "- I have used counter controlled FOR loop statements.\n",
    "- I have included at least one method that take arguments) and returns a result\n",
    "- The program has useful comments, at least one per method saying what it does.\n",
    "- I have used indentation in a way that makes its structure clear.\n",
    "- I have used final variables to store literal values rather than values appearing through the code.\n",
    "- I have defined all variables inside methods\n",
    "- I have used variable names that give an indication of their use."
   ]
  },
  {
   "cell_type": "markdown",
   "metadata": {},
   "source": [
    "## The literate program development\n"
   ]
  },
  {
   "cell_type": "markdown",
   "metadata": {
    "jp-MarkdownHeadingCollapsed": true
   },
   "source": [
    "### Input()\n",
    "\n",
    "#### What it does\n",
    "Template for user Inputs\n",
    "\n",
    "#### Implementation (how it works)\n",
    "Creates template to ask how many grades received for each question."
   ]
  },
  {
   "cell_type": "code",
   "execution_count": 23,
   "metadata": {},
   "outputs": [],
   "source": [
    "public static String Input(String question) {\n",
    "    Scanner scanner = new Scanner(System.in);\n",
    "    System.out.println(question); //asks the user\n",
    "    String answer = scanner.nextLine(); \n",
    "    return answer;\n",
    "}"
   ]
  },
  {
   "cell_type": "markdown",
   "metadata": {},
   "source": [
    "#### Testing"
   ]
  },
  {
   "cell_type": "code",
   "execution_count": 24,
   "metadata": {},
   "outputs": [
    {
     "name": "stdout",
     "output_type": "stream",
     "text": [
      "Question: \n"
     ]
    },
    {
     "ename": "EvaluationInterruptedException",
     "evalue": "Evaluator was interrupted while executing: 'String x = Input(\"Question: \");'",
     "output_type": "error",
     "traceback": [
      "\u001b[1m\u001b[30m|   \u001b[1m\u001b[30mString x = Input(\"Question: \");\u001b[0m",
      "\u001b[1m\u001b[31mEvaluation interrupted.\u001b[0m"
     ]
    }
   ],
   "source": [
    "String x = Input(\"Question: \");\n",
    "System.out.println(x);"
   ]
  },
  {
   "cell_type": "markdown",
   "metadata": {
    "jp-MarkdownHeadingCollapsed": true
   },
   "source": [
    "### Introduction\n",
    "\n",
    "#### What it does\n",
    "Introduces the user to the quiz and asks how many players.\n",
    "\n",
    "#### Implementation (how it works)\n",
    "The system will output several lines welcoming the user to the quiz and ask how many players, returning the value entered. "
   ]
  },
  {
   "cell_type": "code",
   "execution_count": 6,
   "metadata": {},
   "outputs": [],
   "source": [
    "\n",
    "public static int Introduction()\n",
    "{\n",
    "    Scanner scanner = new Scanner(System.in);\n",
    "    System.out.println(\"Welcome to the quiz!\");\n",
    "    System.out.println(\"How many people are playing?\");\n",
    "    String users = scanner.nextLine();\n",
    "    final int Users = Integer.parseInt(users); //stores how many users for loop length\n",
    "    System.out.println();\n",
    "    return Users;\n",
    "}"
   ]
  },
  {
   "cell_type": "markdown",
   "metadata": {},
   "source": [
    "#### Testing"
   ]
  },
  {
   "cell_type": "code",
   "execution_count": 7,
   "metadata": {},
   "outputs": [
    {
     "name": "stdout",
     "output_type": "stream",
     "text": [
      "Welcome to the quiz!\n",
      "How many people are playing?\n"
     ]
    },
    {
     "ename": "EvaluationInterruptedException",
     "evalue": "Evaluator was interrupted while executing: '// TEST CODE for WaterQuality()\n\nIntroduction();'",
     "output_type": "error",
     "traceback": [
      "\u001b[1m\u001b[30m|   \u001b[1m\u001b[30m// TEST CODE for WaterQuality()\u001b[0m",
      "\u001b[1m\u001b[30m|   \u001b[1m\u001b[30m\u001b[0m",
      "\u001b[1m\u001b[30m|   \u001b[1m\u001b[30mIntroduction();\u001b[0m",
      "\u001b[1m\u001b[31mEvaluation interrupted.\u001b[0m"
     ]
    }
   ],
   "source": [
    "// TEST CODE for WaterQuality()\n",
    "\n",
    "Introduction();"
   ]
  },
  {
   "cell_type": "markdown",
   "metadata": {
    "jp-MarkdownHeadingCollapsed": true
   },
   "source": [
    "### saveQsToFile\n",
    "\n",
    "#### What it does\n",
    "Creates a new txt file and saves questions and answers to it\n",
    "\n",
    "#### Implementation (how it works)\n",
    "\n",
    "Takes in the created question list as a parameter then outputs the questions and answers from the array in the new created txt file"
   ]
  },
  {
   "cell_type": "code",
   "execution_count": 8,
   "metadata": {},
   "outputs": [],
   "source": [
    "public static void saveQsToFile(String fileName, Question[] questionList) {\n",
    "    try (PrintWriter writer = new PrintWriter(new FileWriter(fileName))) {\n",
    "        for (Question q : questionList) {\n",
    "            writer.println(\"Q: \"+ q.question);\n",
    "            writer.println(\"A: \"+ q.answer);\n",
    "        }\n",
    "    } catch (IOException e) {\n",
    "        e.printStackTrace();\n",
    "    }\n",
    "}"
   ]
  },
  {
   "cell_type": "markdown",
   "metadata": {},
   "source": [
    "#### Testing"
   ]
  },
  {
   "cell_type": "code",
   "execution_count": 21,
   "metadata": {},
   "outputs": [],
   "source": [
    "saveQsToFile(\"MethodTesting.txt\", questionlist);"
   ]
  },
  {
   "cell_type": "markdown",
   "metadata": {
    "jp-MarkdownHeadingCollapsed": true
   },
   "source": [
    "### newQuestion\n",
    "\n",
    "#### What it does\n",
    "Creates a new question\n",
    "\n",
    "#### Implementation (how it works)\n",
    "\n",
    "Takes in the question and answer as parameters then forms a new question using dot notation"
   ]
  },
  {
   "cell_type": "code",
   "execution_count": null,
   "metadata": {},
   "outputs": [],
   "source": [
    "public static Question newQuestion(String Q, String a) {\n",
    "    Question q = new Question();\n",
    "    q.question = Q;\n",
    "    q.answer = a;\n",
    "    return q;\n",
    "}"
   ]
  },
  {
   "cell_type": "markdown",
   "metadata": {},
   "source": [
    "#### Testing"
   ]
  },
  {
   "cell_type": "code",
   "execution_count": 34,
   "metadata": {},
   "outputs": [
    {
     "data": {
      "text/plain": [
       "REPL.$JShell$17$Question@1b7e5bfd"
      ]
     },
     "execution_count": 34,
     "metadata": {},
     "output_type": "execute_result"
    }
   ],
   "source": [
    "newQuestion(\"What year is it?\", \"2023\");"
   ]
  },
  {
   "cell_type": "markdown",
   "metadata": {
    "jp-MarkdownHeadingCollapsed": true
   },
   "source": [
    "### createNewQSet\n",
    "\n",
    "#### What it does\n",
    "Lets the user type in questions and answers to make their own set of questions\n",
    "#### Implementation (how it works)\n",
    "\n",
    "A new array is formed and then a loop continues to ask them for questions and answers until the total they entered is met and then the array is completed and returned outside the loop"
   ]
  },
  {
   "cell_type": "code",
   "execution_count": 36,
   "metadata": {},
   "outputs": [],
   "source": [
    "public static Question[] createNewQSet() {\n",
    "    Scanner scanner = new Scanner(System.in);\n",
    "    System.out.println(\"Enter the number of questions in the new set: \");\n",
    "    int num = scanner.nextInt();\n",
    "    Question[] questionList = new Question[num];\n",
    "    for (int i = 0; i < num; i++) {\n",
    "        System.out.println(\"Enter question #\" + (i + 1) + \": \");\n",
    "        String q = scanner.next();\n",
    "        System.out.println(\"Enter answer for question #\" + (i + 1) + \": \");\n",
    "        String a = scanner.next();\n",
    "        questionList[i] = newQuestion(q, a);\n",
    "    }\n",
    "    return questionList;\n",
    "}"
   ]
  },
  {
   "cell_type": "markdown",
   "metadata": {},
   "source": [
    "#### Testing"
   ]
  },
  {
   "cell_type": "code",
   "execution_count": 37,
   "metadata": {},
   "outputs": [
    {
     "name": "stdout",
     "output_type": "stream",
     "text": [
      "Enter the number of questions in the new set: \n"
     ]
    },
    {
     "ename": "EvaluationInterruptedException",
     "evalue": "Evaluator was interrupted while executing: 'createNewQSet();'",
     "output_type": "error",
     "traceback": [
      "\u001b[1m\u001b[30m|   \u001b[1m\u001b[30mcreateNewQSet();\u001b[0m",
      "\u001b[1m\u001b[31mEvaluation interrupted.\u001b[0m"
     ]
    }
   ],
   "source": [
    "createNewQSet();"
   ]
  },
  {
   "cell_type": "markdown",
   "metadata": {
    "jp-MarkdownHeadingCollapsed": true
   },
   "source": [
    "### GMS()\n",
    "\n",
    "#### What it does\n",
    "Creates an array with the geometric increasing scores\n",
    "\n",
    "#### Implementation (how it works)\n",
    "An array is defined and the values of the sequence are entered. "
   ]
  },
  {
   "cell_type": "code",
   "execution_count": 5,
   "metadata": {},
   "outputs": [],
   "source": [
    "public static int[] GMS(){\n",
    "    int[] gmS = {1,2,3}; //increasing points for each questiom\n",
    "    return gmS;\n",
    "}"
   ]
  },
  {
   "cell_type": "markdown",
   "metadata": {},
   "source": [
    "#### Testing"
   ]
  },
  {
   "cell_type": "code",
   "execution_count": 9,
   "metadata": {},
   "outputs": [
    {
     "data": {
      "text/plain": [
       "[I@a51df64"
      ]
     },
     "execution_count": 9,
     "metadata": {},
     "output_type": "execute_result"
    }
   ],
   "source": [
    "GMS();"
   ]
  },
  {
   "cell_type": "markdown",
   "metadata": {},
   "source": [
    "### questionList();\n",
    "\n",
    "#### What it does\n",
    "Creates a database for all the questions.\n",
    "\n",
    "#### Implementation (how it works)\n",
    "Creates 3 new records, containing a question and the answer and adds them to an array which is then returned."
   ]
  },
  {
   "cell_type": "code",
   "execution_count": 12,
   "metadata": {},
   "outputs": [],
   "source": [
    "public static Question[] questionList(){\n",
    "    Question[] questionlist = new Question[3];\n",
    "    questionlist[0] = newQuestion(\" Who won the Ballon D'or in 2022?\", \"Karim Benzema\");\n",
    "    questionlist[1] = newQuestion(\" Which club won the UCL in 2004?\", \"Porto\");\n",
    "    questionlist[2] = newQuestion(\" Which country has won the most World Cups?\", \"Brazil\");\n",
    "    return questionlist;\n",
    "}"
   ]
  },
  {
   "cell_type": "markdown",
   "metadata": {},
   "source": [
    "#### Testing"
   ]
  },
  {
   "cell_type": "code",
   "execution_count": 20,
   "metadata": {},
   "outputs": [],
   "source": [
    "Question[] questionlist = questionList();"
   ]
  },
  {
   "cell_type": "markdown",
   "metadata": {
    "jp-MarkdownHeadingCollapsed": true
   },
   "source": [
    "### getX();\n",
    "\n",
    "#### What it does\n",
    "Fetches data values from a record.\n",
    "\n",
    "#### Implementation (how it works)\n",
    "Searches in the record passed into the parameter and returns the data value asked for."
   ]
  },
  {
   "cell_type": "code",
   "execution_count": 31,
   "metadata": {},
   "outputs": [],
   "source": [
    "public static String getQuestion(Question q){\n",
    "    return q.question;\n",
    "}\n",
    "\n",
    "public static String getAnswer(Question q){\n",
    "    return q.answer;\n",
    "}\n"
   ]
  },
  {
   "cell_type": "markdown",
   "metadata": {},
   "source": [
    "#### Testing"
   ]
  },
  {
   "cell_type": "code",
   "execution_count": 32,
   "metadata": {},
   "outputs": [
    {
     "data": {
      "text/plain": [
       " Who won the Ballon D'or in 2022?"
      ]
     },
     "execution_count": 32,
     "metadata": {},
     "output_type": "execute_result"
    }
   ],
   "source": [
    "getQuestion(questionlist[0]);"
   ]
  },
  {
   "cell_type": "markdown",
   "metadata": {
    "jp-MarkdownHeadingCollapsed": true
   },
   "source": [
    "### Questions\n",
    "\n",
    "#### What it does\n",
    "\n",
    "Asks the users 3 questions and lets them answer then counts their score\n",
    "\n",
    "#### Implementation (how it works)\n",
    "Questions are displayed as a string then a new line allows the user to type in their answer which is picked up by a scanner and stored in a variable. This is then, using an if else function, compared with the correct answer and their score is increased in sequence if correct. This is ran in a loop for every user. \n"
   ]
  },
  {
   "cell_type": "code",
   "execution_count": 27,
   "metadata": {},
   "outputs": [],
   "source": [
    "public static int[] Questions(int Users, int[] gmS, Question[] questionlist){\n",
    "    int[] scores = new int[Users];\n",
    "    for (int i = 0; i < Users; i++){ // repeats Q for every user\n",
    "        String Answer1 = Input(\"Player #\" + (i + 1) +\": \" + getQuestion(questionlist[0]));\n",
    "        while (Answer1.length() >= 15){\n",
    "            System.out.println(\"Incorrect input! Please use less than 15 characters! \");\n",
    "            System.out.println();\n",
    "            Answer1 = Input(\"Player #\" + (i + 1) +\": \" + getQuestion(questionlist[0]));\n",
    "        }\n",
    "        if (Answer1.equals(getAnswer(questionlist[0]))){\n",
    "            scores[i] = scores[i] + gmS[0];\n",
    "            System.out.println(\"Correct! Score: \" + scores[i]);\n",
    "            System.out.println();\n",
    "        } \n",
    "\n",
    "        else {\n",
    "            System.out.println(\"Incorrect! Score: \"+ scores[i]);\n",
    "            System.out.println();\n",
    "            }\n",
    "        }\n",
    "    \n",
    "        for (int i = 0; i < Users; i++){\n",
    "            String Answer1 = Input(\"Player #\" + (i + 1) +\": \" + getQuestion(questionlist[1]));\n",
    "            while (Answer1.length() >= 15){\n",
    "                System.out.println(\"Incorrect input! Please use less than 15 characters! \");\n",
    "                System.out.println();\n",
    "                Answer1 = Input(\"Player #\" + (i + 1) +\": \" + getQuestion(questionlist[1]));\n",
    "            }\n",
    "            if (Answer1.equals(getAnswer(questionlist[1]))){\n",
    "                scores[i] = scores[i] +  gmS[1];\n",
    "                System.out.println(\"Correct! Score: \" + scores[i]);\n",
    "                System.out.println();\n",
    "            } else{\n",
    "                System.out.println(\"Incorrect! Score: \"+ scores[i]);\n",
    "                System.out.println();\n",
    "            }\n",
    "        }\n",
    "        for (int i = 0; i < Users; i++){\n",
    "            String Answer1 = Input(\"Player #\" + (i + 1) +\": \" + getQuestion(questionlist[2]));\n",
    "            while (Answer1.length() >= 15){\n",
    "                System.out.println(\"Incorrect input! Please use less than 15 characters! \");\n",
    "                System.out.println();\n",
    "                Answer1 = Input(\"Player #\" + (i + 1) +\": \" + getQuestion(questionlist[2]));\n",
    "            }\n",
    "            if (Answer1.equals(getAnswer(questionlist[2]))){\n",
    "                scores[i] = scores[i] + gmS[2];\n",
    "                System.out.println(\"Correct! Score: \" + scores[i]);\n",
    "                System.out.println();\n",
    "            } else{\n",
    "                System.out.println(\"Incorrect! Score: \"+ scores[i]);\n",
    "                System.out.println();\n",
    "            }\n",
    "        }\n",
    "        return scores; //returns the scores in an array\n",
    "    }"
   ]
  },
  {
   "cell_type": "markdown",
   "metadata": {},
   "source": [
    "#### Testing"
   ]
  },
  {
   "cell_type": "code",
   "execution_count": 33,
   "metadata": {},
   "outputs": [
    {
     "name": "stdout",
     "output_type": "stream",
     "text": [
      "Player #1:  Who won the Ballon D'or in 2022?\n"
     ]
    },
    {
     "ename": "EvaluationInterruptedException",
     "evalue": "Evaluator was interrupted while executing: 'Questions(2, gmS, questionlist);'",
     "output_type": "error",
     "traceback": [
      "\u001b[1m\u001b[30m|   \u001b[1m\u001b[30mQuestions(2, gmS, questionlist);\u001b[0m",
      "\u001b[1m\u001b[31mEvaluation interrupted.\u001b[0m"
     ]
    }
   ],
   "source": [
    "int[] gmS = {1, 2, 3};\n",
    "Questions(2, gmS, questionlist);"
   ]
  },
  {
   "cell_type": "markdown",
   "metadata": {
    "jp-MarkdownHeadingCollapsed": true
   },
   "source": [
    "### End\n",
    "\n",
    "#### What it does\n",
    "\n",
    "Shows the users their scores and thanks them for participating\n",
    "\n",
    "#### Implementation (how it works)\n",
    "Takes the final result of score array from Questions and outputs them alongside an output of a thank you message to the user with print commands.\n"
   ]
  },
  {
   "cell_type": "code",
   "execution_count": 16,
   "metadata": {},
   "outputs": [],
   "source": [
    "public static void End(int[] scores, int Users){\n",
    "    System.out.println(\"Thank you for playing! The final scores are:\");\n",
    "    for (int i = 0; i < Users; i++){\n",
    "        System.out.println(\"Player #\" + (i+1) + \": \"+ scores[i]); //prints out all scores in a loop\n",
    "    }\n",
    "}"
   ]
  },
  {
   "cell_type": "markdown",
   "metadata": {},
   "source": [
    "#### Testing"
   ]
  },
  {
   "cell_type": "code",
   "execution_count": 17,
   "metadata": {},
   "outputs": [
    {
     "name": "stdout",
     "output_type": "stream",
     "text": [
      "Thank you for playing! The final scores are:\n",
      "Player #1: 2\n",
      "Player #2: 4\n",
      "Player #3: 5\n"
     ]
    }
   ],
   "source": [
    "int[] scores = {2,4,5};\n",
    "End(scores, 3);"
   ]
  },
  {
   "cell_type": "markdown",
   "metadata": {
    "jp-MarkdownHeadingCollapsed": true
   },
   "source": [
    "### Running the program\n",
    "Run the following call to simulate running the complete program."
   ]
  },
  {
   "cell_type": "code",
   "execution_count": 22,
   "metadata": {},
   "outputs": [
    {
     "name": "stdout",
     "output_type": "stream",
     "text": [
      "Do you want to use an existing set or create a new one? (1: Existing / 2: New)\n"
     ]
    },
    {
     "name": "stdin",
     "output_type": "stream",
     "text": [
      " 1\n"
     ]
    },
    {
     "ename": "CompilationException",
     "evalue": "",
     "output_type": "error",
     "traceback": [
      "\u001b[1m\u001b[30m|   \u001b[1m\u001b[30m    \u001b[0m\u001b[1m\u001b[30m\u001b[41mplayQuiz\u001b[0m\u001b[1m\u001b[30m(questionList);\u001b[0m",
      "\u001b[1m\u001b[31mcannot find symbol\u001b[0m",
      "\u001b[1m\u001b[31m  symbol:   method playQuiz(Question[])\u001b[0m",
      "",
      "\u001b[1m\u001b[30m|   \u001b[1m\u001b[30m    Question[] questionList = \u001b[0m\u001b[1m\u001b[30m\u001b[41mcreateNewSet\u001b[0m\u001b[1m\u001b[30m();\u001b[0m",
      "\u001b[1m\u001b[31mcannot find symbol\u001b[0m",
      "\u001b[1m\u001b[31m  symbol:   method createNewSet()\u001b[0m",
      "",
      "\u001b[1m\u001b[30m|   \u001b[1m\u001b[30m    \u001b[0m\u001b[1m\u001b[30m\u001b[41mplayQuiz\u001b[0m\u001b[1m\u001b[30m(questionList);\u001b[0m",
      "\u001b[1m\u001b[31mcannot find symbol\u001b[0m",
      "\u001b[1m\u001b[31m  symbol:   method playQuiz(Question[])\u001b[0m",
      ""
     ]
    }
   ],
   "source": [
    "Scanner scanner = new Scanner(System.in);\n",
    "System.out.println(\"Do you want to use an existing set or create a new one? (1: Existing / 2: New)\");\n",
    "int choice = scanner.nextInt();\n",
    "if (choice == 1) {\n",
    "    Question[] questionList = questionList();\n",
    "    playQuiz(questionList);\n",
    "} else if (choice == 2) {\n",
    "    Question[] questionList = createNewQSet();\n",
    "    System.out.println(\"Enter the file name to save the new set: \");\n",
    "    String fileName = scanner.next();\n",
    "    saveQsToFile(fileName, questionList);\n",
    "    playQuiz(questionList);\n",
    "}"
   ]
  },
  {
   "cell_type": "markdown",
   "metadata": {},
   "source": [
    "## The complete program\n",
    "This version will only compile here. To run it copy it into a file called initials.java on your local computer and compile and run it there."
   ]
  },
  {
   "cell_type": "code",
   "execution_count": 4,
   "metadata": {},
   "outputs": [
    {
     "name": "stdout",
     "output_type": "stream",
     "text": [
      "Do you want to use an existing set or create a new one? (1: Existing / 2: New)\n"
     ]
    },
    {
     "name": "stdin",
     "output_type": "stream",
     "text": [
      " 1\n"
     ]
    },
    {
     "name": "stdout",
     "output_type": "stream",
     "text": [
      "Welcome to the football quiz!\n",
      "How many people are playing?\n"
     ]
    },
    {
     "name": "stdin",
     "output_type": "stream",
     "text": [
      " 2\n"
     ]
    },
    {
     "name": "stdout",
     "output_type": "stream",
     "text": [
      "\n",
      "Player #1:  Who won the Ballon D'or in 2022?\n"
     ]
    },
    {
     "name": "stdin",
     "output_type": "stream",
     "text": [
      " a\n"
     ]
    },
    {
     "name": "stdout",
     "output_type": "stream",
     "text": [
      "Incorrect! Score: 0\n",
      "\n",
      "Player #1:  Which club won the UCL in 2004?\n"
     ]
    },
    {
     "name": "stdin",
     "output_type": "stream",
     "text": [
      " a\n"
     ]
    },
    {
     "name": "stdout",
     "output_type": "stream",
     "text": [
      "Incorrect! Score: 0\n",
      "\n",
      "Player #1:  Which country has won the most World Cups?\n"
     ]
    },
    {
     "name": "stdin",
     "output_type": "stream",
     "text": [
      " a\n"
     ]
    },
    {
     "name": "stdout",
     "output_type": "stream",
     "text": [
      "Incorrect! Score: 0\n",
      "\n",
      "Player #2:  Who won the Ballon D'or in 2022?\n"
     ]
    },
    {
     "name": "stdin",
     "output_type": "stream",
     "text": [
      " a\n"
     ]
    },
    {
     "name": "stdout",
     "output_type": "stream",
     "text": [
      "Incorrect! Score: 0\n",
      "\n",
      "Player #2:  Which club won the UCL in 2004?\n"
     ]
    },
    {
     "name": "stdin",
     "output_type": "stream",
     "text": [
      " a\n"
     ]
    },
    {
     "name": "stdout",
     "output_type": "stream",
     "text": [
      "Incorrect! Score: 0\n",
      "\n",
      "Player #2:  Which country has won the most World Cups?\n"
     ]
    },
    {
     "name": "stdin",
     "output_type": "stream",
     "text": [
      " a\n"
     ]
    },
    {
     "name": "stdout",
     "output_type": "stream",
     "text": [
      "Incorrect! Score: 0\n",
      "\n",
      "Thank you for playing! The final scores are:\n",
      "Player #1: 0\n",
      "Player #2: 0\n"
     ]
    }
   ],
   "source": [
    "import java.util.*;\n",
    "import java.io.BufferedReader;\n",
    "import java.io.FileReader;\n",
    "import java.io.IOException;\n",
    "import java.io.FileWriter;\n",
    "import java.io.PrintWriter;\n",
    "\n",
    "public class Question {\n",
    "    String question;\n",
    "    String answer;\n",
    "}\n",
    "\n",
    "public class Quiz {\n",
    "    public static void main(String[] args) {\n",
    "        Scanner scanner = new Scanner(System.in);\n",
    "        System.out.println(\"Do you want to use the default question set or create a new one? (1: Default / 2: New)\"); //asks user if they want an existing set/create new one\n",
    "        int choice = scanner.nextInt();\n",
    "        if (choice == 1) {\n",
    "            // Uses existing questions\n",
    "            Question[] questionList = questionList();\n",
    "            playQuiz(questionList);\n",
    "        } else if (choice == 2) {\n",
    "            Question[] questionList = createNewQSet(); \n",
    "            System.out.println(\"Enter the file name to save the new set: \");\n",
    "            String fileName = scanner.next();\n",
    "            saveQsToFile(fileName, questionList); //creates new set and saves it to file\n",
    "            playQuiz(questionList);\n",
    "        }\n",
    "    }\n",
    "    \n",
    "    public static void saveQsToFile(String fileName, Question[] questionList) {\n",
    "        try (PrintWriter writer = new PrintWriter(new FileWriter(fileName))) {\n",
    "            for (Question q : questionList) {\n",
    "                writer.println(\"Q: \"+ q.question);\n",
    "                writer.println(\"A: \"+ q.answer);\n",
    "            }\n",
    "        } catch (IOException e) {\n",
    "            e.printStackTrace();\n",
    "        }\n",
    "    }\n",
    "\n",
    "    public static Question newQuestion(String Q, String a) {\n",
    "        Question q = new Question();\n",
    "        q.question = Q;\n",
    "        q.answer = a;\n",
    "        return q;\n",
    "    }\n",
    "\n",
    "    public static Question[] createNewQSet() {\n",
    "        Scanner scanner = new Scanner(System.in);\n",
    "        System.out.println(\"Enter the number of questions in the new set: \");\n",
    "        int num = scanner.nextInt();\n",
    "        Question[] questionList = new Question[num];\n",
    "        for (int i = 0; i < num; i++) {\n",
    "            System.out.println(\"Enter question #\" + (i + 1) + \": \");\n",
    "            String q = scanner.next();\n",
    "            System.out.println(\"Enter answer for question #\" + (i + 1) + \": \");\n",
    "            String a = scanner.next();\n",
    "            questionList[i] = newQuestion(q, a);\n",
    "        }\n",
    "        return questionList;\n",
    "    }\n",
    "\n",
    "    public static String getQuestion(Question q) {\n",
    "        return q.question;\n",
    "    }\n",
    "\n",
    "    public static String getAnswer(Question q) {\n",
    "        return q.answer;\n",
    "    }\n",
    "\n",
    "    public static int Introduction() {\n",
    "        Scanner scanner = new Scanner(System.in);\n",
    "        System.out.println(\"Welcome to the football quiz!\");\n",
    "        System.out.println(\"How many people are playing?\");\n",
    "        String users = scanner.nextLine();\n",
    "        final int Users = Integer.parseInt(users); //stores how many users for loop length\n",
    "        System.out.println();\n",
    "        return Users;\n",
    "    }\n",
    "\n",
    "    public static int[] GMS() {\n",
    "        int[] gmS = { 1, 2, 3 }; // increasing points for each question\n",
    "        return gmS;\n",
    "    }\n",
    "    public static Question[] questionList(){\n",
    "        Question[] questionlist = new Question[3];\n",
    "        questionlist[0] = newQuestion(\" Who won the Ballon D'or in 2022?\", \"Karim Benzema\");\n",
    "        questionlist[1] = newQuestion(\" Which club won the UCL in 2004?\", \"Porto\");\n",
    "        questionlist[2] = newQuestion(\" Which country has won the most World Cups?\", \"Brazil\");\n",
    "        return questionlist;\n",
    "    }\n",
    "\n",
    "    public static int[] Questions(int Users, int[] gmS, Question[] questionList) {\n",
    "        int[] scores = new int[Users];\n",
    "        for (int i = 0; i < Users; i++) { // repeats Q for every user\n",
    "            for (int j = 0; j < questionList.length; j++) {\n",
    "                String userAnswer = Input(\"Player #\" + (i + 1) + \": \" + getQuestion(questionList[j]));\n",
    "                while (userAnswer.length() >= 15) {\n",
    "                    System.out.println(\"Incorrect input! Please use less than 15 characters! \");\n",
    "                    System.out.println();\n",
    "                    userAnswer = Input(\"Player #\" + (i + 1) + \": \" + getQuestion(questionList[j]));\n",
    "                }\n",
    "                if (userAnswer.equals(getAnswer(questionList[j]))) {\n",
    "                    scores[i] += gmS[j];\n",
    "                    System.out.println(\"Correct! Score: \" + scores[i]);\n",
    "                    System.out.println();\n",
    "                } else {\n",
    "                    System.out.println(\"Incorrect! Score: \" + scores[i]);\n",
    "                    System.out.println();\n",
    "                }\n",
    "            }\n",
    "        }\n",
    "        return scores; // returns the scores in an array\n",
    "    }\n",
    "\n",
    "    public static void End(int[] scores, int Users) {\n",
    "        System.out.println(\"Thank you for playing! The final scores are:\");\n",
    "        for (int i = 0; i < Users; i++) {\n",
    "            System.out.println(\"Player #\" + (i + 1) + \": \" + scores[i]); // prints out all scores in a loop\n",
    "        }\n",
    "    }\n",
    "\n",
    "    public static String Input(String question) {\n",
    "        Scanner scanner = new Scanner(System.in);\n",
    "        System.out.println(question); // asks the user\n",
    "        return scanner.nextLine();\n",
    "    }\n",
    "\n",
    "    public static void playQuiz(Question[] questionList) {\n",
    "        int Users = Introduction();\n",
    "        int[] gmS = GMS();\n",
    "        int[] scores = Questions(Users, gmS, questionList);\n",
    "        End(scores, Users);\n",
    "    }\n",
    "}\n",
    "\n",
    "Quiz.main(null);"
   ]
  },
  {
   "cell_type": "markdown",
   "metadata": {},
   "source": [
    "**END OF LITERATE DOCUMENT**"
   ]
  }
 ],
 "metadata": {
  "kernelspec": {
   "display_name": "Java",
   "language": "java",
   "name": "java"
  },
  "language_info": {
   "codemirror_mode": "java",
   "file_extension": ".jshell",
   "mimetype": "text/x-java-source",
   "name": "Java",
   "pygments_lexer": "java",
   "version": "11.0.8+10-LTS"
  }
 },
 "nbformat": 4,
 "nbformat_minor": 4
}
